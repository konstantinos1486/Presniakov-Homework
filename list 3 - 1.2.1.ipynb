{
 "cells": [
  {
   "cell_type": "code",
   "execution_count": 1,
   "id": "e3c1c526",
   "metadata": {},
   "outputs": [],
   "source": [
    "TSS = 100.35\n",
    "ESS = 47.56"
   ]
  },
  {
   "cell_type": "code",
   "execution_count": 2,
   "id": "6af08661",
   "metadata": {},
   "outputs": [
    {
     "data": {
      "text/plain": [
       "52.78999999999999"
      ]
     },
     "execution_count": 2,
     "metadata": {},
     "output_type": "execute_result"
    }
   ],
   "source": [
    "RSS = TSS - ESS\n",
    "RSS"
   ]
  },
  {
   "cell_type": "markdown",
   "id": "d2def63b",
   "metadata": {},
   "source": [
    "$$\n",
    "R^2 = ESS/TSS = 1 - RSS/TSS\n",
    "$$"
   ]
  },
  {
   "cell_type": "code",
   "execution_count": 3,
   "id": "ef126b0e",
   "metadata": {},
   "outputs": [
    {
     "data": {
      "text/plain": [
       "0.47394120577977084"
      ]
     },
     "execution_count": 3,
     "metadata": {},
     "output_type": "execute_result"
    }
   ],
   "source": [
    "R2 = ESS/TSS\n",
    "R2"
   ]
  },
  {
   "cell_type": "code",
   "execution_count": null,
   "id": "6ac4ea58",
   "metadata": {},
   "outputs": [],
   "source": []
  }
 ],
 "metadata": {
  "kernelspec": {
   "display_name": "Python 3 (ipykernel)",
   "language": "python",
   "name": "python3"
  },
  "language_info": {
   "codemirror_mode": {
    "name": "ipython",
    "version": 3
   },
   "file_extension": ".py",
   "mimetype": "text/x-python",
   "name": "python",
   "nbconvert_exporter": "python",
   "pygments_lexer": "ipython3",
   "version": "3.9.13"
  }
 },
 "nbformat": 4,
 "nbformat_minor": 5
}
