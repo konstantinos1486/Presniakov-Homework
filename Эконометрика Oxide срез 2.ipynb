{
 "cells": [
  {
   "cell_type": "code",
   "execution_count": 1,
   "id": "f4f811f5",
   "metadata": {},
   "outputs": [],
   "source": [
    "import numpy as np\n",
    "import pandas as pd\n",
    "import io\n",
    "import statsmodels.formula.api as smf\n",
    "import scipy.stats as stats\n",
    "import scipy\n",
    "import seaborn as sns\n",
    "import re\n",
    "import random"
   ]
  },
  {
   "cell_type": "code",
   "execution_count": 2,
   "id": "f1e515cc",
   "metadata": {},
   "outputs": [],
   "source": [
    "df = pd.read_csv('https://vincentarelbundock.github.io/Rdatasets/csv/nlme/Oxide.csv')"
   ]
  },
  {
   "cell_type": "code",
   "execution_count": 3,
   "id": "45a6907f",
   "metadata": {},
   "outputs": [
    {
     "data": {
      "text/html": [
       "<div>\n",
       "<style scoped>\n",
       "    .dataframe tbody tr th:only-of-type {\n",
       "        vertical-align: middle;\n",
       "    }\n",
       "\n",
       "    .dataframe tbody tr th {\n",
       "        vertical-align: top;\n",
       "    }\n",
       "\n",
       "    .dataframe thead th {\n",
       "        text-align: right;\n",
       "    }\n",
       "</style>\n",
       "<table border=\"1\" class=\"dataframe\">\n",
       "  <thead>\n",
       "    <tr style=\"text-align: right;\">\n",
       "      <th></th>\n",
       "      <th>Unnamed: 0</th>\n",
       "      <th>Source</th>\n",
       "      <th>Lot</th>\n",
       "      <th>Wafer</th>\n",
       "      <th>Site</th>\n",
       "      <th>Thickness</th>\n",
       "    </tr>\n",
       "  </thead>\n",
       "  <tbody>\n",
       "    <tr>\n",
       "      <th>0</th>\n",
       "      <td>1</td>\n",
       "      <td>1</td>\n",
       "      <td>1</td>\n",
       "      <td>1</td>\n",
       "      <td>1</td>\n",
       "      <td>2006</td>\n",
       "    </tr>\n",
       "    <tr>\n",
       "      <th>1</th>\n",
       "      <td>2</td>\n",
       "      <td>1</td>\n",
       "      <td>1</td>\n",
       "      <td>1</td>\n",
       "      <td>2</td>\n",
       "      <td>1999</td>\n",
       "    </tr>\n",
       "    <tr>\n",
       "      <th>2</th>\n",
       "      <td>3</td>\n",
       "      <td>1</td>\n",
       "      <td>1</td>\n",
       "      <td>1</td>\n",
       "      <td>3</td>\n",
       "      <td>2007</td>\n",
       "    </tr>\n",
       "    <tr>\n",
       "      <th>3</th>\n",
       "      <td>4</td>\n",
       "      <td>1</td>\n",
       "      <td>1</td>\n",
       "      <td>2</td>\n",
       "      <td>1</td>\n",
       "      <td>1980</td>\n",
       "    </tr>\n",
       "    <tr>\n",
       "      <th>4</th>\n",
       "      <td>5</td>\n",
       "      <td>1</td>\n",
       "      <td>1</td>\n",
       "      <td>2</td>\n",
       "      <td>2</td>\n",
       "      <td>1988</td>\n",
       "    </tr>\n",
       "    <tr>\n",
       "      <th>...</th>\n",
       "      <td>...</td>\n",
       "      <td>...</td>\n",
       "      <td>...</td>\n",
       "      <td>...</td>\n",
       "      <td>...</td>\n",
       "      <td>...</td>\n",
       "    </tr>\n",
       "    <tr>\n",
       "      <th>67</th>\n",
       "      <td>68</td>\n",
       "      <td>2</td>\n",
       "      <td>8</td>\n",
       "      <td>2</td>\n",
       "      <td>2</td>\n",
       "      <td>1993</td>\n",
       "    </tr>\n",
       "    <tr>\n",
       "      <th>68</th>\n",
       "      <td>69</td>\n",
       "      <td>2</td>\n",
       "      <td>8</td>\n",
       "      <td>2</td>\n",
       "      <td>3</td>\n",
       "      <td>1996</td>\n",
       "    </tr>\n",
       "    <tr>\n",
       "      <th>69</th>\n",
       "      <td>70</td>\n",
       "      <td>2</td>\n",
       "      <td>8</td>\n",
       "      <td>3</td>\n",
       "      <td>1</td>\n",
       "      <td>1990</td>\n",
       "    </tr>\n",
       "    <tr>\n",
       "      <th>70</th>\n",
       "      <td>71</td>\n",
       "      <td>2</td>\n",
       "      <td>8</td>\n",
       "      <td>3</td>\n",
       "      <td>2</td>\n",
       "      <td>1989</td>\n",
       "    </tr>\n",
       "    <tr>\n",
       "      <th>71</th>\n",
       "      <td>72</td>\n",
       "      <td>2</td>\n",
       "      <td>8</td>\n",
       "      <td>3</td>\n",
       "      <td>3</td>\n",
       "      <td>1992</td>\n",
       "    </tr>\n",
       "  </tbody>\n",
       "</table>\n",
       "<p>72 rows × 6 columns</p>\n",
       "</div>"
      ],
      "text/plain": [
       "    Unnamed: 0  Source  Lot  Wafer  Site  Thickness\n",
       "0            1       1    1      1     1       2006\n",
       "1            2       1    1      1     2       1999\n",
       "2            3       1    1      1     3       2007\n",
       "3            4       1    1      2     1       1980\n",
       "4            5       1    1      2     2       1988\n",
       "..         ...     ...  ...    ...   ...        ...\n",
       "67          68       2    8      2     2       1993\n",
       "68          69       2    8      2     3       1996\n",
       "69          70       2    8      3     1       1990\n",
       "70          71       2    8      3     2       1989\n",
       "71          72       2    8      3     3       1992\n",
       "\n",
       "[72 rows x 6 columns]"
      ]
     },
     "execution_count": 3,
     "metadata": {},
     "output_type": "execute_result"
    }
   ],
   "source": [
    "df"
   ]
  },
  {
   "cell_type": "markdown",
   "id": "668bd284",
   "metadata": {},
   "source": [
    "## Интерпретация коэффициентов: \n",
    "\n",
    "1. \"source\": источник или происхождение данных. В данном контексте это - информация о том, откуда были получены измерения толщины оксида. То е ть, \"source\" указывает на различные лаборатории или оборудование, которое использовалось для измерений.\n",
    "2. \"lot\": номер партии или серии образцов, к которым относятся измерения. Обычно, образцы из одной партии считаются близкими по своим характеристикам или производственному процессу.\n",
    "3. \"wafer\": номер кремниевого пластины или кристалла, на котором был нанесен оксид. В полупроводниковой промышленности, например, кремниевые пластины (вафли) используются для создания интегральных схем.\n",
    "4. \"site\": местоположение на вафле, где было произведено измерение толщины оксида. Возможно, на вафле имеется несколько мест, где проводились измерения, и \"site\" позволяет идентифицировать конкретное место.\n",
    "5. \"thickness\": толщина оксида, которая является целевой переменной в данном датасете. Измерения толщины оксида были сделаны в нанометрах."
   ]
  },
  {
   "cell_type": "markdown",
   "id": "3a81f7c1",
   "metadata": {},
   "source": [
    "# 1. Далее проведем T-тест для определения значимых коэффицентов:"
   ]
  },
  {
   "cell_type": "code",
   "execution_count": 4,
   "id": "a9d6d79e",
   "metadata": {},
   "outputs": [
    {
     "name": "stdout",
     "output_type": "stream",
     "text": [
      "                            OLS Regression Results                            \n",
      "==============================================================================\n",
      "Dep. Variable:                 Source   R-squared:                       0.830\n",
      "Model:                            OLS   Adj. R-squared:                  0.820\n",
      "Method:                 Least Squares   F-statistic:                     82.03\n",
      "Date:                Mon, 15 May 2023   Prob (F-statistic):           4.40e-25\n",
      "Time:                        21:46:18   Log-Likelihood:                 11.624\n",
      "No. Observations:                  72   AIC:                            -13.25\n",
      "Df Residuals:                      67   BIC:                            -1.865\n",
      "Df Model:                           4                                         \n",
      "Covariance Type:            nonrobust                                         \n",
      "==============================================================================\n",
      "                 coef    std err          t      P>|t|      [0.025      0.975]\n",
      "------------------------------------------------------------------------------\n",
      "Intercept    -20.4224      4.050     -5.043      0.000     -28.506     -12.339\n",
      "Lot            0.1810      0.011     16.270      0.000       0.159       0.203\n",
      "Wafer          0.0178      0.031      0.574      0.568      -0.044       0.080\n",
      "Site          -0.0044      0.031     -0.142      0.887      -0.066       0.057\n",
      "Thickness      0.0105      0.002      5.203      0.000       0.006       0.015\n",
      "==============================================================================\n",
      "Omnibus:                        5.144   Durbin-Watson:                   0.345\n",
      "Prob(Omnibus):                  0.076   Jarque-Bera (JB):                3.353\n",
      "Skew:                          -0.356   Prob(JB):                        0.187\n",
      "Kurtosis:                       2.219   Cond. No.                     3.22e+05\n",
      "==============================================================================\n",
      "\n",
      "Notes:\n",
      "[1] Standard Errors assume that the covariance matrix of the errors is correctly specified.\n",
      "[2] The condition number is large, 3.22e+05. This might indicate that there are\n",
      "strong multicollinearity or other numerical problems.\n"
     ]
    }
   ],
   "source": [
    "model_linear = smf.ols('Source ~ Lot + Wafer + Site + Thickness', data=df).fit()\n",
    "print(model_linear.summary())"
   ]
  },
  {
   "cell_type": "code",
   "execution_count": 5,
   "id": "7cc8ed8e",
   "metadata": {},
   "outputs": [],
   "source": [
    "data_string='''coef    std.err\n",
    "Intercept    -20.4224      4.050 \n",
    "Lot            0.1810      0.011\n",
    "Wafer          0.0178      0.031\n",
    "Site          -0.0044      0.031\n",
    "Thickness      0.0105      0.002'''"
   ]
  },
  {
   "cell_type": "code",
   "execution_count": 6,
   "id": "1c6b13b4",
   "metadata": {},
   "outputs": [
    {
     "data": {
      "text/html": [
       "<div>\n",
       "<style scoped>\n",
       "    .dataframe tbody tr th:only-of-type {\n",
       "        vertical-align: middle;\n",
       "    }\n",
       "\n",
       "    .dataframe tbody tr th {\n",
       "        vertical-align: top;\n",
       "    }\n",
       "\n",
       "    .dataframe thead th {\n",
       "        text-align: right;\n",
       "    }\n",
       "</style>\n",
       "<table border=\"1\" class=\"dataframe\">\n",
       "  <thead>\n",
       "    <tr style=\"text-align: right;\">\n",
       "      <th></th>\n",
       "      <th>coef</th>\n",
       "      <th>std.err</th>\n",
       "    </tr>\n",
       "  </thead>\n",
       "  <tbody>\n",
       "    <tr>\n",
       "      <th>Intercept</th>\n",
       "      <td>-20.4224</td>\n",
       "      <td>4.050</td>\n",
       "    </tr>\n",
       "    <tr>\n",
       "      <th>Lot</th>\n",
       "      <td>0.1810</td>\n",
       "      <td>0.011</td>\n",
       "    </tr>\n",
       "    <tr>\n",
       "      <th>Wafer</th>\n",
       "      <td>0.0178</td>\n",
       "      <td>0.031</td>\n",
       "    </tr>\n",
       "    <tr>\n",
       "      <th>Site</th>\n",
       "      <td>-0.0044</td>\n",
       "      <td>0.031</td>\n",
       "    </tr>\n",
       "    <tr>\n",
       "      <th>Thickness</th>\n",
       "      <td>0.0105</td>\n",
       "      <td>0.002</td>\n",
       "    </tr>\n",
       "  </tbody>\n",
       "</table>\n",
       "</div>"
      ],
      "text/plain": [
       "              coef  std.err\n",
       "Intercept -20.4224    4.050\n",
       "Lot         0.1810    0.011\n",
       "Wafer       0.0178    0.031\n",
       "Site       -0.0044    0.031\n",
       "Thickness   0.0105    0.002"
      ]
     },
     "execution_count": 6,
     "metadata": {},
     "output_type": "execute_result"
    }
   ],
   "source": [
    "df=pd.read_csv(io.StringIO(data_string), sep='\\s+')\n",
    "df"
   ]
  },
  {
   "cell_type": "code",
   "execution_count": 7,
   "id": "a1bee663",
   "metadata": {},
   "outputs": [
    {
     "data": {
      "text/html": [
       "<div>\n",
       "<style scoped>\n",
       "    .dataframe tbody tr th:only-of-type {\n",
       "        vertical-align: middle;\n",
       "    }\n",
       "\n",
       "    .dataframe tbody tr th {\n",
       "        vertical-align: top;\n",
       "    }\n",
       "\n",
       "    .dataframe thead th {\n",
       "        text-align: right;\n",
       "    }\n",
       "</style>\n",
       "<table border=\"1\" class=\"dataframe\">\n",
       "  <thead>\n",
       "    <tr style=\"text-align: right;\">\n",
       "      <th></th>\n",
       "      <th>coef</th>\n",
       "      <th>std.err</th>\n",
       "      <th>t_nablud</th>\n",
       "    </tr>\n",
       "  </thead>\n",
       "  <tbody>\n",
       "    <tr>\n",
       "      <th>Intercept</th>\n",
       "      <td>-20.4224</td>\n",
       "      <td>4.050</td>\n",
       "      <td>-5.042568</td>\n",
       "    </tr>\n",
       "    <tr>\n",
       "      <th>Lot</th>\n",
       "      <td>0.1810</td>\n",
       "      <td>0.011</td>\n",
       "      <td>16.454545</td>\n",
       "    </tr>\n",
       "    <tr>\n",
       "      <th>Wafer</th>\n",
       "      <td>0.0178</td>\n",
       "      <td>0.031</td>\n",
       "      <td>0.574194</td>\n",
       "    </tr>\n",
       "    <tr>\n",
       "      <th>Site</th>\n",
       "      <td>-0.0044</td>\n",
       "      <td>0.031</td>\n",
       "      <td>-0.141935</td>\n",
       "    </tr>\n",
       "    <tr>\n",
       "      <th>Thickness</th>\n",
       "      <td>0.0105</td>\n",
       "      <td>0.002</td>\n",
       "      <td>5.250000</td>\n",
       "    </tr>\n",
       "  </tbody>\n",
       "</table>\n",
       "</div>"
      ],
      "text/plain": [
       "              coef  std.err   t_nablud\n",
       "Intercept -20.4224    4.050  -5.042568\n",
       "Lot         0.1810    0.011  16.454545\n",
       "Wafer       0.0178    0.031   0.574194\n",
       "Site       -0.0044    0.031  -0.141935\n",
       "Thickness   0.0105    0.002   5.250000"
      ]
     },
     "execution_count": 7,
     "metadata": {},
     "output_type": "execute_result"
    }
   ],
   "source": [
    "df['t_nablud'] = df['coef']/df['std.err']\n",
    "df"
   ]
  },
  {
   "cell_type": "code",
   "execution_count": 8,
   "id": "bade5cb6",
   "metadata": {},
   "outputs": [
    {
     "data": {
      "text/plain": [
       "1.667916113961428"
      ]
     },
     "execution_count": 8,
     "metadata": {},
     "output_type": "execute_result"
    }
   ],
   "source": [
    "t_critil = stats.t.ppf(1 - 0.05, 72 - 5)\n",
    "t_critil"
   ]
  },
  {
   "cell_type": "code",
   "execution_count": 9,
   "id": "e910d5f2",
   "metadata": {},
   "outputs": [
    {
     "data": {
      "text/html": [
       "<div>\n",
       "<style scoped>\n",
       "    .dataframe tbody tr th:only-of-type {\n",
       "        vertical-align: middle;\n",
       "    }\n",
       "\n",
       "    .dataframe tbody tr th {\n",
       "        vertical-align: top;\n",
       "    }\n",
       "\n",
       "    .dataframe thead th {\n",
       "        text-align: right;\n",
       "    }\n",
       "</style>\n",
       "<table border=\"1\" class=\"dataframe\">\n",
       "  <thead>\n",
       "    <tr style=\"text-align: right;\">\n",
       "      <th></th>\n",
       "      <th>coef</th>\n",
       "      <th>std.err</th>\n",
       "      <th>t_nablud</th>\n",
       "      <th>Znachimosti</th>\n",
       "    </tr>\n",
       "  </thead>\n",
       "  <tbody>\n",
       "    <tr>\n",
       "      <th>Intercept</th>\n",
       "      <td>-20.4224</td>\n",
       "      <td>4.050</td>\n",
       "      <td>-5.042568</td>\n",
       "      <td>ne_znachim</td>\n",
       "    </tr>\n",
       "    <tr>\n",
       "      <th>Lot</th>\n",
       "      <td>0.1810</td>\n",
       "      <td>0.011</td>\n",
       "      <td>16.454545</td>\n",
       "      <td>znachim</td>\n",
       "    </tr>\n",
       "    <tr>\n",
       "      <th>Wafer</th>\n",
       "      <td>0.0178</td>\n",
       "      <td>0.031</td>\n",
       "      <td>0.574194</td>\n",
       "      <td>ne_znachim</td>\n",
       "    </tr>\n",
       "    <tr>\n",
       "      <th>Site</th>\n",
       "      <td>-0.0044</td>\n",
       "      <td>0.031</td>\n",
       "      <td>-0.141935</td>\n",
       "      <td>ne_znachim</td>\n",
       "    </tr>\n",
       "    <tr>\n",
       "      <th>Thickness</th>\n",
       "      <td>0.0105</td>\n",
       "      <td>0.002</td>\n",
       "      <td>5.250000</td>\n",
       "      <td>znachim</td>\n",
       "    </tr>\n",
       "  </tbody>\n",
       "</table>\n",
       "</div>"
      ],
      "text/plain": [
       "              coef  std.err   t_nablud Znachimosti\n",
       "Intercept -20.4224    4.050  -5.042568  ne_znachim\n",
       "Lot         0.1810    0.011  16.454545     znachim\n",
       "Wafer       0.0178    0.031   0.574194  ne_znachim\n",
       "Site       -0.0044    0.031  -0.141935  ne_znachim\n",
       "Thickness   0.0105    0.002   5.250000     znachim"
      ]
     },
     "execution_count": 9,
     "metadata": {},
     "output_type": "execute_result"
    }
   ],
   "source": [
    "df['Znachimosti'] = df.apply(lambda x: 'znachim' if x['t_nablud']>t_critil else 'ne_znachim', axis=1)\n",
    "df"
   ]
  },
  {
   "cell_type": "markdown",
   "id": "c303b522",
   "metadata": {},
   "source": [
    "## Итак, значимыми являются только коэффициенты Lot, Thickness"
   ]
  },
  {
   "cell_type": "markdown",
   "id": "a9fc698d",
   "metadata": {},
   "source": [
    "#### В данном случае, остальные переменные не играют существенной роли, что указывает на высокую вероятность случайной ошибки при отклонении нулевой гипотезы о равенстве средних значений. В результате, нет достаточных доказательств, чтобы считать различия между средними значениями статистически значимыми. Поэтому можно рассмотреть возможность исключения этих переменных из анализа или проведения дальнейших исследований с применением более точных методов статистического анализа."
   ]
  },
  {
   "cell_type": "markdown",
   "id": "bf9f6ad0",
   "metadata": {},
   "source": [
    "## Интерпретация\n",
    "- При увеличении Lot на 1 Source увеличивается на 0,181 \n",
    "- При увеличении Thickness на 1 Source увеличивается на 0,0105"
   ]
  },
  {
   "cell_type": "markdown",
   "id": "5dd8c5a8",
   "metadata": {},
   "source": [
    "## Спецификация: \n",
    "$Source = \\beta_0 + \\beta_1*Lot+\\beta_2*Thickness$"
   ]
  },
  {
   "cell_type": "markdown",
   "id": "76fe7e83",
   "metadata": {},
   "source": [
    "## Оценка значимости регрессии в целом\n",
    "1. Fstat=82.03, Fcr=1.667;\n",
    "2. Fstat>Fcr \n",
    "3. Сл-но, регрессия значима"
   ]
  },
  {
   "cell_type": "markdown",
   "id": "fc73beb6",
   "metadata": {},
   "source": [
    "### Итак, существует статистически значимая связь между зависимой и независимыми переменными в модели регрессии. Однако не все независимые переменные могут вносить значимый вклад в объяснение. В таких случаях можно исключить незначимые переменные из модели, чтобы повысить ее прогностическую способность и облегчить интерпретацию результатов."
   ]
  },
  {
   "cell_type": "markdown",
   "id": "c61528c0",
   "metadata": {},
   "source": [
    "# 2. Проверка регрессии на наличие мультиколлинеарности"
   ]
  },
  {
   "cell_type": "code",
   "execution_count": 11,
   "id": "bfdf3ad9",
   "metadata": {},
   "outputs": [],
   "source": [
    "df = pd.read_csv('https://vincentarelbundock.github.io/Rdatasets/csv/nlme/Oxide.csv')"
   ]
  },
  {
   "cell_type": "code",
   "execution_count": 12,
   "id": "4768d55b",
   "metadata": {},
   "outputs": [
    {
     "data": {
      "text/html": [
       "<div>\n",
       "<style scoped>\n",
       "    .dataframe tbody tr th:only-of-type {\n",
       "        vertical-align: middle;\n",
       "    }\n",
       "\n",
       "    .dataframe tbody tr th {\n",
       "        vertical-align: top;\n",
       "    }\n",
       "\n",
       "    .dataframe thead th {\n",
       "        text-align: right;\n",
       "    }\n",
       "</style>\n",
       "<table border=\"1\" class=\"dataframe\">\n",
       "  <thead>\n",
       "    <tr style=\"text-align: right;\">\n",
       "      <th></th>\n",
       "      <th>Unnamed: 0</th>\n",
       "      <th>Source</th>\n",
       "      <th>Lot</th>\n",
       "      <th>Wafer</th>\n",
       "      <th>Site</th>\n",
       "      <th>Thickness</th>\n",
       "    </tr>\n",
       "  </thead>\n",
       "  <tbody>\n",
       "    <tr>\n",
       "      <th>0</th>\n",
       "      <td>1</td>\n",
       "      <td>1</td>\n",
       "      <td>1</td>\n",
       "      <td>1</td>\n",
       "      <td>1</td>\n",
       "      <td>2006</td>\n",
       "    </tr>\n",
       "    <tr>\n",
       "      <th>1</th>\n",
       "      <td>2</td>\n",
       "      <td>1</td>\n",
       "      <td>1</td>\n",
       "      <td>1</td>\n",
       "      <td>2</td>\n",
       "      <td>1999</td>\n",
       "    </tr>\n",
       "    <tr>\n",
       "      <th>2</th>\n",
       "      <td>3</td>\n",
       "      <td>1</td>\n",
       "      <td>1</td>\n",
       "      <td>1</td>\n",
       "      <td>3</td>\n",
       "      <td>2007</td>\n",
       "    </tr>\n",
       "    <tr>\n",
       "      <th>3</th>\n",
       "      <td>4</td>\n",
       "      <td>1</td>\n",
       "      <td>1</td>\n",
       "      <td>2</td>\n",
       "      <td>1</td>\n",
       "      <td>1980</td>\n",
       "    </tr>\n",
       "    <tr>\n",
       "      <th>4</th>\n",
       "      <td>5</td>\n",
       "      <td>1</td>\n",
       "      <td>1</td>\n",
       "      <td>2</td>\n",
       "      <td>2</td>\n",
       "      <td>1988</td>\n",
       "    </tr>\n",
       "    <tr>\n",
       "      <th>...</th>\n",
       "      <td>...</td>\n",
       "      <td>...</td>\n",
       "      <td>...</td>\n",
       "      <td>...</td>\n",
       "      <td>...</td>\n",
       "      <td>...</td>\n",
       "    </tr>\n",
       "    <tr>\n",
       "      <th>67</th>\n",
       "      <td>68</td>\n",
       "      <td>2</td>\n",
       "      <td>8</td>\n",
       "      <td>2</td>\n",
       "      <td>2</td>\n",
       "      <td>1993</td>\n",
       "    </tr>\n",
       "    <tr>\n",
       "      <th>68</th>\n",
       "      <td>69</td>\n",
       "      <td>2</td>\n",
       "      <td>8</td>\n",
       "      <td>2</td>\n",
       "      <td>3</td>\n",
       "      <td>1996</td>\n",
       "    </tr>\n",
       "    <tr>\n",
       "      <th>69</th>\n",
       "      <td>70</td>\n",
       "      <td>2</td>\n",
       "      <td>8</td>\n",
       "      <td>3</td>\n",
       "      <td>1</td>\n",
       "      <td>1990</td>\n",
       "    </tr>\n",
       "    <tr>\n",
       "      <th>70</th>\n",
       "      <td>71</td>\n",
       "      <td>2</td>\n",
       "      <td>8</td>\n",
       "      <td>3</td>\n",
       "      <td>2</td>\n",
       "      <td>1989</td>\n",
       "    </tr>\n",
       "    <tr>\n",
       "      <th>71</th>\n",
       "      <td>72</td>\n",
       "      <td>2</td>\n",
       "      <td>8</td>\n",
       "      <td>3</td>\n",
       "      <td>3</td>\n",
       "      <td>1992</td>\n",
       "    </tr>\n",
       "  </tbody>\n",
       "</table>\n",
       "<p>72 rows × 6 columns</p>\n",
       "</div>"
      ],
      "text/plain": [
       "    Unnamed: 0  Source  Lot  Wafer  Site  Thickness\n",
       "0            1       1    1      1     1       2006\n",
       "1            2       1    1      1     2       1999\n",
       "2            3       1    1      1     3       2007\n",
       "3            4       1    1      2     1       1980\n",
       "4            5       1    1      2     2       1988\n",
       "..         ...     ...  ...    ...   ...        ...\n",
       "67          68       2    8      2     2       1993\n",
       "68          69       2    8      2     3       1996\n",
       "69          70       2    8      3     1       1990\n",
       "70          71       2    8      3     2       1989\n",
       "71          72       2    8      3     3       1992\n",
       "\n",
       "[72 rows x 6 columns]"
      ]
     },
     "execution_count": 12,
     "metadata": {},
     "output_type": "execute_result"
    }
   ],
   "source": [
    "df"
   ]
  },
  {
   "cell_type": "code",
   "execution_count": 13,
   "id": "81eb2704",
   "metadata": {},
   "outputs": [
    {
     "name": "stdout",
     "output_type": "stream",
     "text": [
      "                Lot  Thickness\n",
      "Lot        1.000000   0.161993\n",
      "Thickness  0.161993   1.000000\n"
     ]
    }
   ],
   "source": [
    "data = df\n",
    "numeric_col = ['Lot', 'Thickness']\n",
    "corr = data.loc[:,numeric_col].corr()\n",
    "print(corr)"
   ]
  },
  {
   "cell_type": "markdown",
   "id": "d9b32934",
   "metadata": {},
   "source": [
    "### Проведём визуализацию корреляции в виде тепловой карты"
   ]
  },
  {
   "cell_type": "code",
   "execution_count": 14,
   "id": "f48238d2",
   "metadata": {},
   "outputs": [
    {
     "data": {
      "image/png": "[encoded data removed]",
      "text/plain": [
       "<Figure size 640x480 with 2 Axes>"
      ]
     },
     "metadata": {},
     "output_type": "display_data"
    }
   ],
   "source": [
    "pearson = data.loc[:,numeric_col].corr()\n",
    "sns.heatmap(data=pearson,\n",
    "            annot=True, vmin=-1, vmax=1, center= 0, cmap='Spectral');"
   ]
  },
  {
   "cell_type": "markdown",
   "id": "ee9dfb5b",
   "metadata": {},
   "source": [
    "### Таким образом, мультиколлериальность отсутствует"
   ]
  },
  {
   "cell_type": "markdown",
   "id": "ce99901c",
   "metadata": {},
   "source": [
    "# 3. Оценка влияния значимых факторов на источник данных или происхождение соответствующих наблюдений или записей"
   ]
  },
  {
   "cell_type": "code",
   "execution_count": 18,
   "id": "5c277c89",
   "metadata": {},
   "outputs": [],
   "source": [
    "df = pd.read_csv('https://vincentarelbundock.github.io/Rdatasets/csv/nlme/Oxide.csv')"
   ]
  },
  {
   "cell_type": "code",
   "execution_count": 19,
   "id": "e605053a",
   "metadata": {},
   "outputs": [
    {
     "data": {
      "text/html": [
       "<div>\n",
       "<style scoped>\n",
       "    .dataframe tbody tr th:only-of-type {\n",
       "        vertical-align: middle;\n",
       "    }\n",
       "\n",
       "    .dataframe tbody tr th {\n",
       "        vertical-align: top;\n",
       "    }\n",
       "\n",
       "    .dataframe thead th {\n",
       "        text-align: right;\n",
       "    }\n",
       "</style>\n",
       "<table border=\"1\" class=\"dataframe\">\n",
       "  <thead>\n",
       "    <tr style=\"text-align: right;\">\n",
       "      <th></th>\n",
       "      <th>Unnamed: 0</th>\n",
       "      <th>Source</th>\n",
       "      <th>Lot</th>\n",
       "      <th>Wafer</th>\n",
       "      <th>Site</th>\n",
       "      <th>Thickness</th>\n",
       "    </tr>\n",
       "  </thead>\n",
       "  <tbody>\n",
       "    <tr>\n",
       "      <th>0</th>\n",
       "      <td>1</td>\n",
       "      <td>1</td>\n",
       "      <td>1</td>\n",
       "      <td>1</td>\n",
       "      <td>1</td>\n",
       "      <td>2006</td>\n",
       "    </tr>\n",
       "    <tr>\n",
       "      <th>1</th>\n",
       "      <td>2</td>\n",
       "      <td>1</td>\n",
       "      <td>1</td>\n",
       "      <td>1</td>\n",
       "      <td>2</td>\n",
       "      <td>1999</td>\n",
       "    </tr>\n",
       "    <tr>\n",
       "      <th>2</th>\n",
       "      <td>3</td>\n",
       "      <td>1</td>\n",
       "      <td>1</td>\n",
       "      <td>1</td>\n",
       "      <td>3</td>\n",
       "      <td>2007</td>\n",
       "    </tr>\n",
       "    <tr>\n",
       "      <th>3</th>\n",
       "      <td>4</td>\n",
       "      <td>1</td>\n",
       "      <td>1</td>\n",
       "      <td>2</td>\n",
       "      <td>1</td>\n",
       "      <td>1980</td>\n",
       "    </tr>\n",
       "    <tr>\n",
       "      <th>4</th>\n",
       "      <td>5</td>\n",
       "      <td>1</td>\n",
       "      <td>1</td>\n",
       "      <td>2</td>\n",
       "      <td>2</td>\n",
       "      <td>1988</td>\n",
       "    </tr>\n",
       "    <tr>\n",
       "      <th>...</th>\n",
       "      <td>...</td>\n",
       "      <td>...</td>\n",
       "      <td>...</td>\n",
       "      <td>...</td>\n",
       "      <td>...</td>\n",
       "      <td>...</td>\n",
       "    </tr>\n",
       "    <tr>\n",
       "      <th>67</th>\n",
       "      <td>68</td>\n",
       "      <td>2</td>\n",
       "      <td>8</td>\n",
       "      <td>2</td>\n",
       "      <td>2</td>\n",
       "      <td>1993</td>\n",
       "    </tr>\n",
       "    <tr>\n",
       "      <th>68</th>\n",
       "      <td>69</td>\n",
       "      <td>2</td>\n",
       "      <td>8</td>\n",
       "      <td>2</td>\n",
       "      <td>3</td>\n",
       "      <td>1996</td>\n",
       "    </tr>\n",
       "    <tr>\n",
       "      <th>69</th>\n",
       "      <td>70</td>\n",
       "      <td>2</td>\n",
       "      <td>8</td>\n",
       "      <td>3</td>\n",
       "      <td>1</td>\n",
       "      <td>1990</td>\n",
       "    </tr>\n",
       "    <tr>\n",
       "      <th>70</th>\n",
       "      <td>71</td>\n",
       "      <td>2</td>\n",
       "      <td>8</td>\n",
       "      <td>3</td>\n",
       "      <td>2</td>\n",
       "      <td>1989</td>\n",
       "    </tr>\n",
       "    <tr>\n",
       "      <th>71</th>\n",
       "      <td>72</td>\n",
       "      <td>2</td>\n",
       "      <td>8</td>\n",
       "      <td>3</td>\n",
       "      <td>3</td>\n",
       "      <td>1992</td>\n",
       "    </tr>\n",
       "  </tbody>\n",
       "</table>\n",
       "<p>72 rows × 6 columns</p>\n",
       "</div>"
      ],
      "text/plain": [
       "    Unnamed: 0  Source  Lot  Wafer  Site  Thickness\n",
       "0            1       1    1      1     1       2006\n",
       "1            2       1    1      1     2       1999\n",
       "2            3       1    1      1     3       2007\n",
       "3            4       1    1      2     1       1980\n",
       "4            5       1    1      2     2       1988\n",
       "..         ...     ...  ...    ...   ...        ...\n",
       "67          68       2    8      2     2       1993\n",
       "68          69       2    8      2     3       1996\n",
       "69          70       2    8      3     1       1990\n",
       "70          71       2    8      3     2       1989\n",
       "71          72       2    8      3     3       1992\n",
       "\n",
       "[72 rows x 6 columns]"
      ]
     },
     "execution_count": 19,
     "metadata": {},
     "output_type": "execute_result"
    }
   ],
   "source": [
    "df"
   ]
  },
  {
   "cell_type": "code",
   "execution_count": 20,
   "id": "9d6bf4a7",
   "metadata": {},
   "outputs": [
    {
     "data": {
      "text/plain": [
       "<seaborn.axisgrid.FacetGrid at 0x7fb7eef20c40>"
      ]
     },
     "execution_count": 20,
     "metadata": {},
     "output_type": "execute_result"
    },
    {
     "data": {
      "image/png": "[encoded data removed]",
      "text/plain": [
       "<Figure size 500x500 with 1 Axes>"
      ]
     },
     "metadata": {},
     "output_type": "display_data"
    }
   ],
   "source": [
    "sns.lmplot(data=df,x = 'Thickness', y='Source', line_kws={'color':'violet'} )"
   ]
  },
  {
   "cell_type": "code",
   "execution_count": 21,
   "id": "7daf22fb",
   "metadata": {},
   "outputs": [
    {
     "data": {
      "text/plain": [
       "<seaborn.axisgrid.FacetGrid at 0x7fb7efb0feb0>"
      ]
     },
     "execution_count": 21,
     "metadata": {},
     "output_type": "execute_result"
    },
    {
     "data": {
      "image/png": "[encoded data removed]",
      "text/plain": [
       "<Figure size 500x500 with 1 Axes>"
      ]
     },
     "metadata": {},
     "output_type": "display_data"
    }
   ],
   "source": [
    "sns.lmplot(data=df,x = 'Lot', y='Source', line_kws={'color':'violet'} )"
   ]
  },
  {
   "cell_type": "markdown",
   "id": "d94b734b",
   "metadata": {},
   "source": [
    "# 4. Прогнозирование "
   ]
  },
  {
   "cell_type": "code",
   "execution_count": 23,
   "id": "2a3807a5",
   "metadata": {},
   "outputs": [],
   "source": [
    "df = pd.read_csv('https://vincentarelbundock.github.io/Rdatasets/csv/nlme/Oxide.csv')"
   ]
  },
  {
   "cell_type": "code",
   "execution_count": 24,
   "id": "3c8878fe",
   "metadata": {},
   "outputs": [
    {
     "data": {
      "text/html": [
       "<div>\n",
       "<style scoped>\n",
       "    .dataframe tbody tr th:only-of-type {\n",
       "        vertical-align: middle;\n",
       "    }\n",
       "\n",
       "    .dataframe tbody tr th {\n",
       "        vertical-align: top;\n",
       "    }\n",
       "\n",
       "    .dataframe thead th {\n",
       "        text-align: right;\n",
       "    }\n",
       "</style>\n",
       "<table border=\"1\" class=\"dataframe\">\n",
       "  <thead>\n",
       "    <tr style=\"text-align: right;\">\n",
       "      <th></th>\n",
       "      <th>Unnamed: 0</th>\n",
       "      <th>Source</th>\n",
       "      <th>Lot</th>\n",
       "      <th>Wafer</th>\n",
       "      <th>Site</th>\n",
       "      <th>Thickness</th>\n",
       "    </tr>\n",
       "  </thead>\n",
       "  <tbody>\n",
       "    <tr>\n",
       "      <th>0</th>\n",
       "      <td>1</td>\n",
       "      <td>1</td>\n",
       "      <td>1</td>\n",
       "      <td>1</td>\n",
       "      <td>1</td>\n",
       "      <td>2006</td>\n",
       "    </tr>\n",
       "    <tr>\n",
       "      <th>1</th>\n",
       "      <td>2</td>\n",
       "      <td>1</td>\n",
       "      <td>1</td>\n",
       "      <td>1</td>\n",
       "      <td>2</td>\n",
       "      <td>1999</td>\n",
       "    </tr>\n",
       "    <tr>\n",
       "      <th>2</th>\n",
       "      <td>3</td>\n",
       "      <td>1</td>\n",
       "      <td>1</td>\n",
       "      <td>1</td>\n",
       "      <td>3</td>\n",
       "      <td>2007</td>\n",
       "    </tr>\n",
       "    <tr>\n",
       "      <th>3</th>\n",
       "      <td>4</td>\n",
       "      <td>1</td>\n",
       "      <td>1</td>\n",
       "      <td>2</td>\n",
       "      <td>1</td>\n",
       "      <td>1980</td>\n",
       "    </tr>\n",
       "    <tr>\n",
       "      <th>4</th>\n",
       "      <td>5</td>\n",
       "      <td>1</td>\n",
       "      <td>1</td>\n",
       "      <td>2</td>\n",
       "      <td>2</td>\n",
       "      <td>1988</td>\n",
       "    </tr>\n",
       "    <tr>\n",
       "      <th>...</th>\n",
       "      <td>...</td>\n",
       "      <td>...</td>\n",
       "      <td>...</td>\n",
       "      <td>...</td>\n",
       "      <td>...</td>\n",
       "      <td>...</td>\n",
       "    </tr>\n",
       "    <tr>\n",
       "      <th>67</th>\n",
       "      <td>68</td>\n",
       "      <td>2</td>\n",
       "      <td>8</td>\n",
       "      <td>2</td>\n",
       "      <td>2</td>\n",
       "      <td>1993</td>\n",
       "    </tr>\n",
       "    <tr>\n",
       "      <th>68</th>\n",
       "      <td>69</td>\n",
       "      <td>2</td>\n",
       "      <td>8</td>\n",
       "      <td>2</td>\n",
       "      <td>3</td>\n",
       "      <td>1996</td>\n",
       "    </tr>\n",
       "    <tr>\n",
       "      <th>69</th>\n",
       "      <td>70</td>\n",
       "      <td>2</td>\n",
       "      <td>8</td>\n",
       "      <td>3</td>\n",
       "      <td>1</td>\n",
       "      <td>1990</td>\n",
       "    </tr>\n",
       "    <tr>\n",
       "      <th>70</th>\n",
       "      <td>71</td>\n",
       "      <td>2</td>\n",
       "      <td>8</td>\n",
       "      <td>3</td>\n",
       "      <td>2</td>\n",
       "      <td>1989</td>\n",
       "    </tr>\n",
       "    <tr>\n",
       "      <th>71</th>\n",
       "      <td>72</td>\n",
       "      <td>2</td>\n",
       "      <td>8</td>\n",
       "      <td>3</td>\n",
       "      <td>3</td>\n",
       "      <td>1992</td>\n",
       "    </tr>\n",
       "  </tbody>\n",
       "</table>\n",
       "<p>72 rows × 6 columns</p>\n",
       "</div>"
      ],
      "text/plain": [
       "    Unnamed: 0  Source  Lot  Wafer  Site  Thickness\n",
       "0            1       1    1      1     1       2006\n",
       "1            2       1    1      1     2       1999\n",
       "2            3       1    1      1     3       2007\n",
       "3            4       1    1      2     1       1980\n",
       "4            5       1    1      2     2       1988\n",
       "..         ...     ...  ...    ...   ...        ...\n",
       "67          68       2    8      2     2       1993\n",
       "68          69       2    8      2     3       1996\n",
       "69          70       2    8      3     1       1990\n",
       "70          71       2    8      3     2       1989\n",
       "71          72       2    8      3     3       1992\n",
       "\n",
       "[72 rows x 6 columns]"
      ]
     },
     "execution_count": 24,
     "metadata": {},
     "output_type": "execute_result"
    }
   ],
   "source": [
    "df"
   ]
  },
  {
   "cell_type": "code",
   "execution_count": 26,
   "id": "ef78e34c",
   "metadata": {},
   "outputs": [
    {
     "data": {
      "text/html": [
       "<div>\n",
       "<style scoped>\n",
       "    .dataframe tbody tr th:only-of-type {\n",
       "        vertical-align: middle;\n",
       "    }\n",
       "\n",
       "    .dataframe tbody tr th {\n",
       "        vertical-align: top;\n",
       "    }\n",
       "\n",
       "    .dataframe thead th {\n",
       "        text-align: right;\n",
       "    }\n",
       "</style>\n",
       "<table border=\"1\" class=\"dataframe\">\n",
       "  <thead>\n",
       "    <tr style=\"text-align: right;\">\n",
       "      <th></th>\n",
       "      <th>Unnamed: 0</th>\n",
       "      <th>Source</th>\n",
       "      <th>Lot</th>\n",
       "      <th>Wafer</th>\n",
       "      <th>Site</th>\n",
       "      <th>Thickness</th>\n",
       "    </tr>\n",
       "  </thead>\n",
       "  <tbody>\n",
       "    <tr>\n",
       "      <th>47</th>\n",
       "      <td>48</td>\n",
       "      <td>2</td>\n",
       "      <td>6</td>\n",
       "      <td>1</td>\n",
       "      <td>3</td>\n",
       "      <td>2030</td>\n",
       "    </tr>\n",
       "    <tr>\n",
       "      <th>15</th>\n",
       "      <td>16</td>\n",
       "      <td>1</td>\n",
       "      <td>2</td>\n",
       "      <td>3</td>\n",
       "      <td>1</td>\n",
       "      <td>1985</td>\n",
       "    </tr>\n",
       "    <tr>\n",
       "      <th>18</th>\n",
       "      <td>19</td>\n",
       "      <td>1</td>\n",
       "      <td>3</td>\n",
       "      <td>1</td>\n",
       "      <td>1</td>\n",
       "      <td>2000</td>\n",
       "    </tr>\n",
       "    <tr>\n",
       "      <th>40</th>\n",
       "      <td>41</td>\n",
       "      <td>2</td>\n",
       "      <td>5</td>\n",
       "      <td>2</td>\n",
       "      <td>2</td>\n",
       "      <td>2018</td>\n",
       "    </tr>\n",
       "  </tbody>\n",
       "</table>\n",
       "</div>"
      ],
      "text/plain": [
       "    Unnamed: 0  Source  Lot  Wafer  Site  Thickness\n",
       "47          48       2    6      1     3       2030\n",
       "15          16       1    2      3     1       1985\n",
       "18          19       1    3      1     1       2000\n",
       "40          41       2    5      2     2       2018"
      ]
     },
     "execution_count": 26,
     "metadata": {},
     "output_type": "execute_result"
    }
   ],
   "source": [
    "## выберем 4 случайных строки\n",
    "df_ppl = df.sample(n=4)\n",
    "df_ppl"
   ]
  },
  {
   "cell_type": "code",
   "execution_count": 27,
   "id": "86233b9f",
   "metadata": {},
   "outputs": [
    {
     "data": {
      "text/html": [
       "<table class=\"simpletable\">\n",
       "<caption>OLS Regression Results</caption>\n",
       "<tr>\n",
       "  <th>Dep. Variable:</th>         <td>Source</td>      <th>  R-squared:         </th> <td>   0.830</td>\n",
       "</tr>\n",
       "<tr>\n",
       "  <th>Model:</th>                   <td>OLS</td>       <th>  Adj. R-squared:    </th> <td>   0.825</td>\n",
       "</tr>\n",
       "<tr>\n",
       "  <th>Method:</th>             <td>Least Squares</td>  <th>  F-statistic:       </th> <td>   167.9</td>\n",
       "</tr>\n",
       "<tr>\n",
       "  <th>Date:</th>             <td>Mon, 15 May 2023</td> <th>  Prob (F-statistic):</th> <td>3.10e-27</td>\n",
       "</tr>\n",
       "<tr>\n",
       "  <th>Time:</th>                 <td>22:11:30</td>     <th>  Log-Likelihood:    </th> <td>  11.437</td>\n",
       "</tr>\n",
       "<tr>\n",
       "  <th>No. Observations:</th>      <td>    72</td>      <th>  AIC:               </th> <td>  -16.87</td>\n",
       "</tr>\n",
       "<tr>\n",
       "  <th>Df Residuals:</th>          <td>    69</td>      <th>  BIC:               </th> <td>  -10.04</td>\n",
       "</tr>\n",
       "<tr>\n",
       "  <th>Df Model:</th>              <td>     2</td>      <th>                     </th>     <td> </td>   \n",
       "</tr>\n",
       "<tr>\n",
       "  <th>Covariance Type:</th>      <td>nonrobust</td>    <th>                     </th>     <td> </td>   \n",
       "</tr>\n",
       "</table>\n",
       "<table class=\"simpletable\">\n",
       "<tr>\n",
       "      <td></td>         <th>coef</th>     <th>std err</th>      <th>t</th>      <th>P>|t|</th>  <th>[0.025</th>    <th>0.975]</th>  \n",
       "</tr>\n",
       "<tr>\n",
       "  <th>Intercept</th> <td>  -20.1244</td> <td>    3.969</td> <td>   -5.070</td> <td> 0.000</td> <td>  -28.043</td> <td>  -12.206</td>\n",
       "</tr>\n",
       "<tr>\n",
       "  <th>Lot</th>       <td>    0.1812</td> <td>    0.011</td> <td>   16.482</td> <td> 0.000</td> <td>    0.159</td> <td>    0.203</td>\n",
       "</tr>\n",
       "<tr>\n",
       "  <th>Thickness</th> <td>    0.0104</td> <td>    0.002</td> <td>    5.233</td> <td> 0.000</td> <td>    0.006</td> <td>    0.014</td>\n",
       "</tr>\n",
       "</table>\n",
       "<table class=\"simpletable\">\n",
       "<tr>\n",
       "  <th>Omnibus:</th>       <td> 6.110</td> <th>  Durbin-Watson:     </th> <td>   0.349</td>\n",
       "</tr>\n",
       "<tr>\n",
       "  <th>Prob(Omnibus):</th> <td> 0.047</td> <th>  Jarque-Bera (JB):  </th> <td>   3.798</td>\n",
       "</tr>\n",
       "<tr>\n",
       "  <th>Skew:</th>          <td>-0.385</td> <th>  Prob(JB):          </th> <td>   0.150</td>\n",
       "</tr>\n",
       "<tr>\n",
       "  <th>Kurtosis:</th>      <td> 2.179</td> <th>  Cond. No.          </th> <td>3.19e+05</td>\n",
       "</tr>\n",
       "</table><br/><br/>Notes:<br/>[1] Standard Errors assume that the covariance matrix of the errors is correctly specified.<br/>[2] The condition number is large, 3.19e+05. This might indicate that there are<br/>strong multicollinearity or other numerical problems."
      ],
      "text/plain": [
       "<class 'statsmodels.iolib.summary.Summary'>\n",
       "\"\"\"\n",
       "                            OLS Regression Results                            \n",
       "==============================================================================\n",
       "Dep. Variable:                 Source   R-squared:                       0.830\n",
       "Model:                            OLS   Adj. R-squared:                  0.825\n",
       "Method:                 Least Squares   F-statistic:                     167.9\n",
       "Date:                Mon, 15 May 2023   Prob (F-statistic):           3.10e-27\n",
       "Time:                        22:11:30   Log-Likelihood:                 11.437\n",
       "No. Observations:                  72   AIC:                            -16.87\n",
       "Df Residuals:                      69   BIC:                            -10.04\n",
       "Df Model:                           2                                         \n",
       "Covariance Type:            nonrobust                                         \n",
       "==============================================================================\n",
       "                 coef    std err          t      P>|t|      [0.025      0.975]\n",
       "------------------------------------------------------------------------------\n",
       "Intercept    -20.1244      3.969     -5.070      0.000     -28.043     -12.206\n",
       "Lot            0.1812      0.011     16.482      0.000       0.159       0.203\n",
       "Thickness      0.0104      0.002      5.233      0.000       0.006       0.014\n",
       "==============================================================================\n",
       "Omnibus:                        6.110   Durbin-Watson:                   0.349\n",
       "Prob(Omnibus):                  0.047   Jarque-Bera (JB):                3.798\n",
       "Skew:                          -0.385   Prob(JB):                        0.150\n",
       "Kurtosis:                       2.179   Cond. No.                     3.19e+05\n",
       "==============================================================================\n",
       "\n",
       "Notes:\n",
       "[1] Standard Errors assume that the covariance matrix of the errors is correctly specified.\n",
       "[2] The condition number is large, 3.19e+05. This might indicate that there are\n",
       "strong multicollinearity or other numerical problems.\n",
       "\"\"\""
      ]
     },
     "execution_count": 27,
     "metadata": {},
     "output_type": "execute_result"
    }
   ],
   "source": [
    "model = smf.ols(formula='Source ~ Lot+Thickness', data=df).fit()\n",
    "model.summary()"
   ]
  },
  {
   "cell_type": "code",
   "execution_count": 28,
   "id": "cf0b5f07",
   "metadata": {},
   "outputs": [],
   "source": [
    "res = model.predict(exog=df_ppl, transform=True)"
   ]
  },
  {
   "cell_type": "code",
   "execution_count": 29,
   "id": "ea792126",
   "metadata": {},
   "outputs": [
    {
     "data": {
      "text/html": [
       "<div>\n",
       "<style scoped>\n",
       "    .dataframe tbody tr th:only-of-type {\n",
       "        vertical-align: middle;\n",
       "    }\n",
       "\n",
       "    .dataframe tbody tr th {\n",
       "        vertical-align: top;\n",
       "    }\n",
       "\n",
       "    .dataframe thead th {\n",
       "        text-align: right;\n",
       "    }\n",
       "</style>\n",
       "<table border=\"1\" class=\"dataframe\">\n",
       "  <thead>\n",
       "    <tr style=\"text-align: right;\">\n",
       "      <th></th>\n",
       "      <th>Прогноз</th>\n",
       "    </tr>\n",
       "  </thead>\n",
       "  <tbody>\n",
       "    <tr>\n",
       "      <th>1</th>\n",
       "      <td>2.08</td>\n",
       "    </tr>\n",
       "    <tr>\n",
       "      <th>2</th>\n",
       "      <td>0.89</td>\n",
       "    </tr>\n",
       "    <tr>\n",
       "      <th>3</th>\n",
       "      <td>1.23</td>\n",
       "    </tr>\n",
       "    <tr>\n",
       "      <th>4</th>\n",
       "      <td>1.78</td>\n",
       "    </tr>\n",
       "  </tbody>\n",
       "</table>\n",
       "</div>"
      ],
      "text/plain": [
       "   Прогноз\n",
       "1     2.08\n",
       "2     0.89\n",
       "3     1.23\n",
       "4     1.78"
      ]
     },
     "execution_count": 29,
     "metadata": {},
     "output_type": "execute_result"
    }
   ],
   "source": [
    "df_res = pd.DataFrame(res.round(2), columns=['Прогноз'])\n",
    "df_res.reset_index(drop=True , inplace=True)\n",
    "df_res.index += 1\n",
    "df_res"
   ]
  },
  {
   "cell_type": "markdown",
   "id": "bf8101c0",
   "metadata": {},
   "source": [
    "## Итак, мы наблюдаем прогноз Source, то есть источника данных или происхождения соответствующих наблюдений или записей "
   ]
  },
  {
   "cell_type": "markdown",
   "id": "5e863e5c",
   "metadata": {},
   "source": [
    "# 5. Далее проведем тест на гетероскедастичность "
   ]
  },
  {
   "cell_type": "code",
   "execution_count": 30,
   "id": "b973049f",
   "metadata": {},
   "outputs": [],
   "source": [
    "df = pd.read_csv('https://vincentarelbundock.github.io/Rdatasets/csv/nlme/Oxide.csv')"
   ]
  },
  {
   "cell_type": "code",
   "execution_count": 31,
   "id": "55a5604e",
   "metadata": {},
   "outputs": [],
   "source": [
    "model = smf.ols(formula='Source ~ Lot + Thickness', data=df)"
   ]
  },
  {
   "cell_type": "code",
   "execution_count": 32,
   "id": "e4f3265b",
   "metadata": {},
   "outputs": [],
   "source": [
    "results = model.fit()"
   ]
  },
  {
   "cell_type": "code",
   "execution_count": 33,
   "id": "3e4c1cca",
   "metadata": {},
   "outputs": [
    {
     "name": "stdout",
     "output_type": "stream",
     "text": [
      "                            OLS Regression Results                            \n",
      "==============================================================================\n",
      "Dep. Variable:                 Source   R-squared:                       0.830\n",
      "Model:                            OLS   Adj. R-squared:                  0.825\n",
      "Method:                 Least Squares   F-statistic:                     167.9\n",
      "Date:                Mon, 15 May 2023   Prob (F-statistic):           3.10e-27\n",
      "Time:                        22:13:56   Log-Likelihood:                 11.437\n",
      "No. Observations:                  72   AIC:                            -16.87\n",
      "Df Residuals:                      69   BIC:                            -10.04\n",
      "Df Model:                           2                                         \n",
      "Covariance Type:            nonrobust                                         \n",
      "==============================================================================\n",
      "                 coef    std err          t      P>|t|      [0.025      0.975]\n",
      "------------------------------------------------------------------------------\n",
      "Intercept    -20.1244      3.969     -5.070      0.000     -28.043     -12.206\n",
      "Lot            0.1812      0.011     16.482      0.000       0.159       0.203\n",
      "Thickness      0.0104      0.002      5.233      0.000       0.006       0.014\n",
      "==============================================================================\n",
      "Omnibus:                        6.110   Durbin-Watson:                   0.349\n",
      "Prob(Omnibus):                  0.047   Jarque-Bera (JB):                3.798\n",
      "Skew:                          -0.385   Prob(JB):                        0.150\n",
      "Kurtosis:                       2.179   Cond. No.                     3.19e+05\n",
      "==============================================================================\n",
      "\n",
      "Notes:\n",
      "[1] Standard Errors assume that the covariance matrix of the errors is correctly specified.\n",
      "[2] The condition number is large, 3.19e+05. This might indicate that there are\n",
      "strong multicollinearity or other numerical problems.\n"
     ]
    }
   ],
   "source": [
    "print(results.summary())"
   ]
  },
  {
   "cell_type": "code",
   "execution_count": 34,
   "id": "7955a485",
   "metadata": {},
   "outputs": [],
   "source": [
    "from scipy.stats import t"
   ]
  },
  {
   "cell_type": "code",
   "execution_count": 35,
   "id": "fd01ef51",
   "metadata": {},
   "outputs": [],
   "source": [
    "alpha = 0.05\n",
    "df = results.df_resid"
   ]
  },
  {
   "cell_type": "code",
   "execution_count": 36,
   "id": "164402c1",
   "metadata": {},
   "outputs": [],
   "source": [
    "critical_t = abs(t.ppf(alpha/2, df))"
   ]
  },
  {
   "cell_type": "code",
   "execution_count": 37,
   "id": "1becb604",
   "metadata": {},
   "outputs": [
    {
     "name": "stdout",
     "output_type": "stream",
     "text": [
      "1.99\n"
     ]
    }
   ],
   "source": [
    "print(round(critical_t, 2))"
   ]
  },
  {
   "cell_type": "markdown",
   "id": "aadbdd21",
   "metadata": {},
   "source": [
    "## Выводы\n",
    "\n",
    "1. Коэффициенты наклона для обеих независимых переменных, \"Lot\" и \"Thickness\", значительно превышают по абсолютной величине значение 1.99. Это указывает на то, что обе независимые переменные являются статистически значимыми и вносят значимый вклад в объяснение зависимой переменной \"Source\".\n",
    "2. Поскольку значения t-статистики для обеих независимых переменных значительно превышают значение 1.99, это означает, что мы можем отклонить нулевую гипотезу о незначимости коэффициентов наклона для этих переменных."
   ]
  },
  {
   "cell_type": "code",
   "execution_count": null,
   "id": "2bd55bc9",
   "metadata": {},
   "outputs": [],
   "source": []
  }
 ],
 "metadata": {
  "kernelspec": {
   "display_name": "Python 3 (ipykernel)",
   "language": "python",
   "name": "python3"
  },
  "language_info": {
   "codemirror_mode": {
    "name": "ipython",
    "version": 3
   },
   "file_extension": ".py",
   "mimetype": "text/x-python",
   "name": "python",
   "nbconvert_exporter": "python",
   "pygments_lexer": "ipython3",
   "version": "3.9.13"
  }
 },
 "nbformat": 4,
 "nbformat_minor": 5
}
