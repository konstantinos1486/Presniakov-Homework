{
 "cells": [
  {
   "cell_type": "markdown",
   "id": "708e3f86",
   "metadata": {},
   "source": [
    "$$\n",
    "R_(adj)^2 = 1 - (1 - R^2) * ((n-1)/(n-k))\n",
    "$$"
   ]
  },
  {
   "cell_type": "code",
   "execution_count": 1,
   "id": "2d8beadf",
   "metadata": {},
   "outputs": [
    {
     "data": {
      "text/plain": [
       "0.2825335892514397"
      ]
     },
     "execution_count": 1,
     "metadata": {},
     "output_type": "execute_result"
    }
   ],
   "source": [
    "n = 526\n",
    "k = 5\n",
    "R2 = 0.288\n",
    "R2adj = 1 - (1- R2)*(n-1)/(n-k)\n",
    "R2adj"
   ]
  },
  {
   "cell_type": "markdown",
   "id": "e5cd6580",
   "metadata": {},
   "source": [
    "$$\n",
    "n - кол-во измерений \n",
    "k - кол-во регрессоров "
   ]
  }
 ],
 "metadata": {
  "kernelspec": {
   "display_name": "Python 3 (ipykernel)",
   "language": "python",
   "name": "python3"
  },
  "language_info": {
   "codemirror_mode": {
    "name": "ipython",
    "version": 3
   },
   "file_extension": ".py",
   "mimetype": "text/x-python",
   "name": "python",
   "nbconvert_exporter": "python",
   "pygments_lexer": "ipython3",
   "version": "3.9.13"
  }
 },
 "nbformat": 4,
 "nbformat_minor": 5
}
